{
  "nbformat": 4,
  "nbformat_minor": 0,
  "metadata": {
    "colab": {
      "provenance": [],
      "toc_visible": true,
      "authorship_tag": "ABX9TyODh0x3+NlMmzwVQcQMkN/P",
      "include_colab_link": true
    },
    "kernelspec": {
      "name": "python3",
      "display_name": "Python 3"
    },
    "language_info": {
      "name": "python"
    }
  },
  "cells": [
    {
      "cell_type": "markdown",
      "metadata": {
        "id": "view-in-github",
        "colab_type": "text"
      },
      "source": [
        "<a href=\"https://colab.research.google.com/github/sagarshingare/BigDataEngineer/blob/main/Python.ipynb\" target=\"_parent\"><img src=\"https://colab.research.google.com/assets/colab-badge.svg\" alt=\"Open In Colab\"/></a>"
      ]
    },
    {
      "cell_type": "markdown",
      "source": [
        "# Basic Python\n"
      ],
      "metadata": {
        "id": "sYDD-lMWb14R"
      }
    },
    {
      "cell_type": "markdown",
      "source": [
        "## Variables"
      ],
      "metadata": {
        "id": "_eUptE8heykn"
      }
    },
    {
      "cell_type": "code",
      "execution_count": 2,
      "metadata": {
        "colab": {
          "base_uri": "https://localhost:8080/"
        },
        "id": "4Pf0iR3ZbpD2",
        "outputId": "4327b742-5dd1-4d9e-98b9-86d42de3ed5a"
      },
      "outputs": [
        {
          "output_type": "stream",
          "name": "stdout",
          "text": [
            "10\n",
            "5.5\n",
            "Hello World\n"
          ]
        }
      ],
      "source": [
        "# prompt: Share python all basic code with concepts along with python version\n",
        "\n",
        "# Python version: 3.8\n",
        "\n",
        "# Variables\n",
        "# ------------------------------------------------------------------------------\n",
        "\n",
        "# Assign values to variables\n",
        "a = 10\n",
        "b = 5.5\n",
        "c = \"Hello World\"\n",
        "\n",
        "# Print variable values\n",
        "print(a)  # Output: 10\n",
        "print(b)  # Output: 5.5\n",
        "print(c)  # Output: Hello World"
      ]
    },
    {
      "cell_type": "markdown",
      "source": [
        "## Data Types"
      ],
      "metadata": {
        "id": "w8Q4vXYce2dK"
      }
    },
    {
      "cell_type": "code",
      "source": [
        "# Data Types\n",
        "# ------------------------------------------------------------------------------\n",
        "\n",
        "# Integer\n",
        "x = 10\n",
        "\n",
        "# Float\n",
        "y = 5.5\n",
        "\n",
        "# String\n",
        "z = \"Hello World\"\n",
        "\n",
        "# Boolean\n",
        "a = True\n",
        "b = False\n",
        "\n",
        "\n",
        "print(x)\n",
        "print(y)\n",
        "print(z)\n",
        "\n",
        "print(a)\n",
        "print(b)\n"
      ],
      "metadata": {
        "colab": {
          "base_uri": "https://localhost:8080/"
        },
        "id": "KSaYeiMHeSaT",
        "outputId": "6e903151-59fb-4c5d-b8f4-cf7a09c6829e"
      },
      "execution_count": 4,
      "outputs": [
        {
          "output_type": "stream",
          "name": "stdout",
          "text": [
            "10\n",
            "5.5\n",
            "Hello World\n",
            "True\n",
            "False\n"
          ]
        }
      ]
    },
    {
      "cell_type": "markdown",
      "source": [
        "## Operators"
      ],
      "metadata": {
        "id": "LsXrbuEke5Rk"
      }
    },
    {
      "cell_type": "code",
      "source": [
        "# Operators\n",
        "# ------------------------------------------------------------------------------\n",
        "\n",
        "# Arithmetic operators\n",
        "print(10 + 5)  # Addition\n",
        "print(10 - 5)  # Subtraction\n",
        "print(10 * 5)  # Multiplication\n",
        "print(10 / 5)  # Division\n",
        "print(10 // 5)  # Floor division\n",
        "print(10 % 5)  # Modulo\n",
        "\n",
        "# Comparison operators\n",
        "print(10 == 5)  # Equal to\n",
        "print(10 != 5)  # Not equal to\n",
        "print(10 > 5)  # Greater than\n",
        "print(10 < 5)  # Less than\n",
        "print(10 >= 5)  # Greater than or equal to\n",
        "print(10 <= 5)  # Less than or equal to\n",
        "\n",
        "# Logical operators\n",
        "print(True and True)  # True\n",
        "print(True and False)  # False\n",
        "print(False and False)  # False\n",
        "print(True or True)  # True\n",
        "print(True or False)  # True\n",
        "print(False or False)  # False\n"
      ],
      "metadata": {
        "colab": {
          "base_uri": "https://localhost:8080/"
        },
        "id": "RiRxwmkHeVyu",
        "outputId": "8bdb1c5a-e53f-4923-8127-321624c04053"
      },
      "execution_count": 6,
      "outputs": [
        {
          "output_type": "stream",
          "name": "stdout",
          "text": [
            "15\n",
            "5\n",
            "50\n",
            "2.0\n",
            "2\n",
            "0\n",
            "False\n",
            "True\n",
            "True\n",
            "False\n",
            "True\n",
            "False\n",
            "True\n",
            "False\n",
            "False\n",
            "True\n",
            "True\n",
            "False\n"
          ]
        }
      ]
    },
    {
      "cell_type": "markdown",
      "source": [
        "## Control Flow"
      ],
      "metadata": {
        "id": "eCU5F3u9e_4t"
      }
    },
    {
      "cell_type": "code",
      "source": [
        "# Control Flow\n",
        "# ------------------------------------------------------------------------------\n",
        "\n",
        "# If statement\n",
        "if 10 > 5:\n",
        "    print(\"10 is greater than 5\")  # Output: 10 is greater than 5\n",
        "\n",
        "# If-else statement\n",
        "if 10 > 5:\n",
        "    print(\"10 is greater than 5\")  # Output: 10 is greater than 5\n",
        "else:\n",
        "    print(\"10 is not greater than 5\")\n",
        "\n",
        "# If-elif-else statement\n",
        "if 10 > 5:\n",
        "    print(\"10 is greater than 5\")  # Output: 10 is greater than 5\n",
        "elif 10 == 5:\n",
        "    print(\"10 is equal to 5\")\n",
        "else:\n",
        "    print(\"10 is not greater than 5 and not equal to 5\")\n",
        "\n",
        "# While loop\n",
        "i = 1\n",
        "while i <= 5:\n",
        "    print(i)  # Output: 1, 2, 3, 4, 5\n",
        "    i += 1\n",
        "\n",
        "# For loop\n",
        "for i in range(5):\n",
        "    print(i)  # Output: 0, 1, 2, 3, 4\n",
        "\n"
      ],
      "metadata": {
        "id": "V7YYW4treaKO"
      },
      "execution_count": null,
      "outputs": []
    },
    {
      "cell_type": "markdown",
      "source": [
        "## Functions"
      ],
      "metadata": {
        "id": "urs5TH9kfF3i"
      }
    },
    {
      "cell_type": "code",
      "source": [
        "# Functions\n",
        "# ------------------------------------------------------------------------------\n",
        "\n",
        "def my_function(a, b):\n",
        "    return a + b\n",
        "\n",
        "print(my_function(10, 5))  # Output: 15\n",
        "\n"
      ],
      "metadata": {
        "id": "j8KhLhZpeebi"
      },
      "execution_count": null,
      "outputs": []
    },
    {
      "cell_type": "markdown",
      "source": [
        "## Classes"
      ],
      "metadata": {
        "id": "2W8pFnxYfH67"
      }
    },
    {
      "cell_type": "code",
      "source": [
        "# Classes\n",
        "# ------------------------------------------------------------------------------\n",
        "\n",
        "class MyClass:\n",
        "    def __init__(self, name):\n",
        "        self.name = name\n",
        "\n",
        "    def say_hello(self):\n",
        "        print(\"Hello, my name is\", self.name)\n",
        "\n",
        "my_class = MyClass(\"John\")\n",
        "my_class.say_hello()  # Output: Hello, my name is John"
      ],
      "metadata": {
        "id": "KOR8SVfuehWF"
      },
      "execution_count": null,
      "outputs": []
    }
  ]
}